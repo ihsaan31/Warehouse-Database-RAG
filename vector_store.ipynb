{
 "cells": [
  {
   "cell_type": "code",
   "execution_count": 28,
   "id": "35db7c89",
   "metadata": {},
   "outputs": [],
   "source": [
    "from langchain_community.llms import Ollama\n",
    "from langchain.chains import LLMChain\n",
    "from langchain.prompts import PromptTemplate\n",
    "from langchain_ollama.embeddings import OllamaEmbeddings\n",
    "from langchain_ollama.llms import OllamaLLM\n",
    "from langchain_ollama.chat_models import ChatOllama\n",
    "from langchain_community.document_loaders import JSONLoader\n",
    "\n",
    "embeddings = OllamaEmbeddings(model=\"nomic-embed-text:latest\")\n",
    "llm = ChatOllama(model=\"qwen3:0.6b\")\n",
    "\n"
   ]
  },
  {
   "cell_type": "code",
   "execution_count": 41,
   "metadata": {},
   "outputs": [],
   "source": [
    "loader = JSONLoader(\n",
    "    file_path=\"/mnt/c/work/portofolio/warehouse_inventory.json\",\n",
    "    jq_schema=\".warehouse.inventory[]\",\n",
    "    text_content=False,\n",
    "    metadata_func=lambda record, metadata: {\n",
    "        **metadata,\n",
    "        **record  # Include all fields from the record\n",
    "    }\n",
    ")"
   ]
  },
  {
   "cell_type": "code",
   "execution_count": 44,
   "id": "a300daac",
   "metadata": {},
   "outputs": [
    {
     "data": {
      "text/plain": [
       "[Document(metadata={'source': '/mnt/c/work/portofolio/warehouse_inventory.json', 'seq_num': 1, 'item_id': 'ITM001', 'name': 'Laptop 15-inch', 'category': 'Electronics', 'quantity': 150, 'unit_price': 799.99, 'location': 'Aisle 3, Shelf B2', 'last_updated': '2025-07-10', 'status': 'In Stock', 'supplier': 'TechCorp', 'minimum_stock_level': 50}, page_content='{\"item_id\": \"ITM001\", \"name\": \"Laptop 15-inch\", \"category\": \"Electronics\", \"quantity\": 150, \"unit_price\": 799.99, \"location\": \"Aisle 3, Shelf B2\", \"last_updated\": \"2025-07-10\", \"status\": \"In Stock\", \"supplier\": \"TechCorp\", \"minimum_stock_level\": 50}'),\n",
       " Document(metadata={'source': '/mnt/c/work/portofolio/warehouse_inventory.json', 'seq_num': 2, 'item_id': 'ITM002', 'name': 'Wireless Mouse', 'category': 'Electronics', 'quantity': 300, 'unit_price': 19.99, 'location': 'Aisle 3, Shelf C1', 'last_updated': '2025-07-12', 'status': 'In Stock', 'supplier': 'TechCorp', 'minimum_stock_level': 100}, page_content='{\"item_id\": \"ITM002\", \"name\": \"Wireless Mouse\", \"category\": \"Electronics\", \"quantity\": 300, \"unit_price\": 19.99, \"location\": \"Aisle 3, Shelf C1\", \"last_updated\": \"2025-07-12\", \"status\": \"In Stock\", \"supplier\": \"TechCorp\", \"minimum_stock_level\": 100}'),\n",
       " Document(metadata={'source': '/mnt/c/work/portofolio/warehouse_inventory.json', 'seq_num': 3, 'item_id': 'ITM003', 'name': 'Office Chair', 'category': 'Furniture', 'quantity': 75, 'unit_price': 149.99, 'location': 'Aisle 7, Shelf A1', 'last_updated': '2025-07-09', 'status': 'Low Stock', 'supplier': 'FurniCo', 'minimum_stock_level': 80}, page_content='{\"item_id\": \"ITM003\", \"name\": \"Office Chair\", \"category\": \"Furniture\", \"quantity\": 75, \"unit_price\": 149.99, \"location\": \"Aisle 7, Shelf A1\", \"last_updated\": \"2025-07-09\", \"status\": \"Low Stock\", \"supplier\": \"FurniCo\", \"minimum_stock_level\": 80}'),\n",
       " Document(metadata={'source': '/mnt/c/work/portofolio/warehouse_inventory.json', 'seq_num': 4, 'item_id': 'ITM004', 'name': 'A4 Paper Ream', 'category': 'Stationery', 'quantity': 500, 'unit_price': 5.99, 'location': 'Aisle 5, Shelf D3', 'last_updated': '2025-07-11', 'status': 'In Stock', 'supplier': 'PaperWorks', 'minimum_stock_level': 200}, page_content='{\"item_id\": \"ITM004\", \"name\": \"A4 Paper Ream\", \"category\": \"Stationery\", \"quantity\": 500, \"unit_price\": 5.99, \"location\": \"Aisle 5, Shelf D3\", \"last_updated\": \"2025-07-11\", \"status\": \"In Stock\", \"supplier\": \"PaperWorks\", \"minimum_stock_level\": 200}'),\n",
       " Document(metadata={'source': '/mnt/c/work/portofolio/warehouse_inventory.json', 'seq_num': 5, 'item_id': 'ITM005', 'name': 'LED Desk Lamp', 'category': 'Electronics', 'quantity': 40, 'unit_price': 29.99, 'location': 'Aisle 4, Shelf B3', 'last_updated': '2025-07-08', 'status': 'Low Stock', 'supplier': 'BrightTech', 'minimum_stock_level': 50}, page_content='{\"item_id\": \"ITM005\", \"name\": \"LED Desk Lamp\", \"category\": \"Electronics\", \"quantity\": 40, \"unit_price\": 29.99, \"location\": \"Aisle 4, Shelf B3\", \"last_updated\": \"2025-07-08\", \"status\": \"Low Stock\", \"supplier\": \"BrightTech\", \"minimum_stock_level\": 50}'),\n",
       " Document(metadata={'source': '/mnt/c/work/portofolio/warehouse_inventory.json', 'seq_num': 6, 'item_id': 'ITM006', 'name': 'Packing Tape', 'category': 'Packaging', 'quantity': 1000, 'unit_price': 2.49, 'location': 'Aisle 6, Shelf C2', 'last_updated': '2025-07-12', 'status': 'In Stock', 'supplier': 'PackSavvy', 'minimum_stock_level': 300}, page_content='{\"item_id\": \"ITM006\", \"name\": \"Packing Tape\", \"category\": \"Packaging\", \"quantity\": 1000, \"unit_price\": 2.49, \"location\": \"Aisle 6, Shelf C2\", \"last_updated\": \"2025-07-12\", \"status\": \"In Stock\", \"supplier\": \"PackSavvy\", \"minimum_stock_level\": 300}')]"
      ]
     },
     "execution_count": 44,
     "metadata": {},
     "output_type": "execute_result"
    }
   ],
   "source": [
    "docs"
   ]
  },
  {
   "cell_type": "code",
   "execution_count": 47,
   "metadata": {},
   "outputs": [
    {
     "data": {
      "text/plain": [
       "['c1627931-da6e-471a-aa72-673068aba1f2',\n",
       " '61b370a3-6536-421a-9916-4d80d84e5a7a',\n",
       " '3e88ebab-3d8a-455b-b47d-cf6707888ab8',\n",
       " '64564453-60a0-4bb2-97b3-151b753594bf',\n",
       " 'ad922858-9b6d-4ea1-a583-6d607a00efec',\n",
       " '623933ab-da8c-48b6-9fc9-3cf26c6536b4']"
      ]
     },
     "execution_count": 47,
     "metadata": {},
     "output_type": "execute_result"
    }
   ],
   "source": [
    "from langchain_chroma import Chroma\n",
    "\n",
    "vector_store = Chroma(\n",
    "    collection_name=\"warehouse_collection\",  # Name of the collection\n",
    "    embedding_function=embeddings,\n",
    "    persist_directory=\"/mnt/c/work/portofolio/Chatbot/chromadb\",  # Where to save data locally, remove if not necessary\n",
    ")\n",
    "vector_store.add_documents(docs)\n",
    "# vector_store.reset_collection()"
   ]
  },
  {
   "cell_type": "code",
   "execution_count": 48,
   "metadata": {},
   "outputs": [
    {
     "data": {
      "text/plain": [
       "[Document(id='64564453-60a0-4bb2-97b3-151b753594bf', metadata={'minimum_stock_level': 200, 'supplier': 'PaperWorks', 'last_updated': '2025-07-11', 'source': '/mnt/c/work/portofolio/warehouse_inventory.json', 'name': 'A4 Paper Ream', 'category': 'Stationery', 'item_id': 'ITM004', 'status': 'In Stock', 'location': 'Aisle 5, Shelf D3', 'unit_price': 5.99, 'seq_num': 4, 'quantity': 500}, page_content='{\"item_id\": \"ITM004\", \"name\": \"A4 Paper Ream\", \"category\": \"Stationery\", \"quantity\": 500, \"unit_price\": 5.99, \"location\": \"Aisle 5, Shelf D3\", \"last_updated\": \"2025-07-11\", \"status\": \"In Stock\", \"supplier\": \"PaperWorks\", \"minimum_stock_level\": 200}'),\n",
       " Document(id='623933ab-da8c-48b6-9fc9-3cf26c6536b4', metadata={'status': 'In Stock', 'quantity': 1000, 'category': 'Packaging', 'seq_num': 6, 'source': '/mnt/c/work/portofolio/warehouse_inventory.json', 'supplier': 'PackSavvy', 'minimum_stock_level': 300, 'name': 'Packing Tape', 'last_updated': '2025-07-12', 'item_id': 'ITM006', 'unit_price': 2.49, 'location': 'Aisle 6, Shelf C2'}, page_content='{\"item_id\": \"ITM006\", \"name\": \"Packing Tape\", \"category\": \"Packaging\", \"quantity\": 1000, \"unit_price\": 2.49, \"location\": \"Aisle 6, Shelf C2\", \"last_updated\": \"2025-07-12\", \"status\": \"In Stock\", \"supplier\": \"PackSavvy\", \"minimum_stock_level\": 300}'),\n",
       " Document(id='61b370a3-6536-421a-9916-4d80d84e5a7a', metadata={'unit_price': 19.99, 'location': 'Aisle 3, Shelf C1', 'supplier': 'TechCorp', 'name': 'Wireless Mouse', 'status': 'In Stock', 'minimum_stock_level': 100, 'item_id': 'ITM002', 'last_updated': '2025-07-12', 'category': 'Electronics', 'quantity': 300, 'source': '/mnt/c/work/portofolio/warehouse_inventory.json', 'seq_num': 2}, page_content='{\"item_id\": \"ITM002\", \"name\": \"Wireless Mouse\", \"category\": \"Electronics\", \"quantity\": 300, \"unit_price\": 19.99, \"location\": \"Aisle 3, Shelf C1\", \"last_updated\": \"2025-07-12\", \"status\": \"In Stock\", \"supplier\": \"TechCorp\", \"minimum_stock_level\": 100}'),\n",
       " Document(id='3e88ebab-3d8a-455b-b47d-cf6707888ab8', metadata={'last_updated': '2025-07-09', 'supplier': 'FurniCo', 'name': 'Office Chair', 'seq_num': 3, 'unit_price': 149.99, 'location': 'Aisle 7, Shelf A1', 'category': 'Furniture', 'quantity': 75, 'item_id': 'ITM003', 'status': 'Low Stock', 'source': '/mnt/c/work/portofolio/warehouse_inventory.json', 'minimum_stock_level': 80}, page_content='{\"item_id\": \"ITM003\", \"name\": \"Office Chair\", \"category\": \"Furniture\", \"quantity\": 75, \"unit_price\": 149.99, \"location\": \"Aisle 7, Shelf A1\", \"last_updated\": \"2025-07-09\", \"status\": \"Low Stock\", \"supplier\": \"FurniCo\", \"minimum_stock_level\": 80}'),\n",
       " Document(id='ad922858-9b6d-4ea1-a583-6d607a00efec', metadata={'minimum_stock_level': 50, 'supplier': 'BrightTech', 'last_updated': '2025-07-08', 'item_id': 'ITM005', 'quantity': 40, 'seq_num': 5, 'status': 'Low Stock', 'name': 'LED Desk Lamp', 'source': '/mnt/c/work/portofolio/warehouse_inventory.json', 'location': 'Aisle 4, Shelf B3', 'category': 'Electronics', 'unit_price': 29.99}, page_content='{\"item_id\": \"ITM005\", \"name\": \"LED Desk Lamp\", \"category\": \"Electronics\", \"quantity\": 40, \"unit_price\": 29.99, \"location\": \"Aisle 4, Shelf B3\", \"last_updated\": \"2025-07-08\", \"status\": \"Low Stock\", \"supplier\": \"BrightTech\", \"minimum_stock_level\": 50}')]"
      ]
     },
     "execution_count": 48,
     "metadata": {},
     "output_type": "execute_result"
    }
   ],
   "source": [
    "retriever = vector_store.as_retriever(search_type=\"mmr\", search_kwargs={\"k\": 5})\n",
    "results = retriever.invoke(\"paper??\")\n",
    "results"
   ]
  },
  {
   "cell_type": "code",
   "execution_count": null,
   "id": "0caf7ec6",
   "metadata": {},
   "outputs": [],
   "source": []
  },
  {
   "cell_type": "code",
   "execution_count": null,
   "id": "fa9660be",
   "metadata": {},
   "outputs": [],
   "source": []
  }
 ],
 "metadata": {
  "kernelspec": {
   "display_name": "myenv",
   "language": "python",
   "name": "python3"
  },
  "language_info": {
   "codemirror_mode": {
    "name": "ipython",
    "version": 3
   },
   "file_extension": ".py",
   "mimetype": "text/x-python",
   "name": "python",
   "nbconvert_exporter": "python",
   "pygments_lexer": "ipython3",
   "version": "3.10.18"
  }
 },
 "nbformat": 4,
 "nbformat_minor": 5
}
